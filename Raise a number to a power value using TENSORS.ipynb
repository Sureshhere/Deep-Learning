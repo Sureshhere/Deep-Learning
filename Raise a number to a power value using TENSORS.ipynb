{
 "cells": [
  {
   "cell_type": "code",
   "execution_count": 1,
   "id": "0ce1458a",
   "metadata": {},
   "outputs": [],
   "source": [
    "import tensorflow as tf"
   ]
  },
  {
   "cell_type": "code",
   "execution_count": 2,
   "id": "6c33eb81",
   "metadata": {},
   "outputs": [],
   "source": [
    "x = tf.constant(10,name='x')\n",
    "y = tf.constant(3,name='n')\n"
   ]
  },
  {
   "cell_type": "code",
   "execution_count": null,
   "id": "16c31dfb",
   "metadata": {},
   "outputs": [],
   "source": [
    "res = tf.pow"
   ]
  }
 ],
 "metadata": {
  "kernelspec": {
   "display_name": "Python 3 (ipykernel)",
   "language": "python",
   "name": "python3"
  },
  "language_info": {
   "codemirror_mode": {
    "name": "ipython",
    "version": 3
   },
   "file_extension": ".py",
   "mimetype": "text/x-python",
   "name": "python",
   "nbconvert_exporter": "python",
   "pygments_lexer": "ipython3",
   "version": "3.11.5"
  }
 },
 "nbformat": 4,
 "nbformat_minor": 5
}
