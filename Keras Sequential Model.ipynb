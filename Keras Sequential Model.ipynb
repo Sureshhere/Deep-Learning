{
 "cells": [
  {
   "cell_type": "markdown",
   "id": "536e995f",
   "metadata": {},
   "source": [
    "### Keras Sequential Model"
   ]
  },
  {
   "cell_type": "code",
   "execution_count": 1,
   "id": "089e1605",
   "metadata": {},
   "outputs": [],
   "source": [
    "from keras.models import Sequential"
   ]
  },
  {
   "cell_type": "markdown",
   "id": "30834e8d",
   "metadata": {},
   "source": [
    "#### object for Sequential model"
   ]
  },
  {
   "cell_type": "code",
   "execution_count": 2,
   "id": "2ebdc7b2",
   "metadata": {},
   "outputs": [],
   "source": [
    "model = Sequential()\n"
   ]
  },
  {
   "cell_type": "markdown",
   "id": "5eb0b5e7",
   "metadata": {},
   "source": [
    "#### creating layers of the model and adding them one at a time to the model"
   ]
  },
  {
   "cell_type": "code",
   "execution_count": 4,
   "id": "2926a7a4",
   "metadata": {},
   "outputs": [],
   "source": [
    "from keras.layers import Dense"
   ]
  }
 ],
 "metadata": {
  "kernelspec": {
   "display_name": "Python 3 (ipykernel)",
   "language": "python",
   "name": "python3"
  },
  "language_info": {
   "codemirror_mode": {
    "name": "ipython",
    "version": 3
   },
   "file_extension": ".py",
   "mimetype": "text/x-python",
   "name": "python",
   "nbconvert_exporter": "python",
   "pygments_lexer": "ipython3",
   "version": "3.11.5"
  }
 },
 "nbformat": 4,
 "nbformat_minor": 5
}
