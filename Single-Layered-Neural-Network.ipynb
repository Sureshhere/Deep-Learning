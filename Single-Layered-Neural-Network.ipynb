{
 "cells": [
  {
   "cell_type": "markdown",
   "id": "88cf20e1",
   "metadata": {},
   "source": [
    "# Create a single layered neural network with 2 input values"
   ]
  },
  {
   "cell_type": "code",
   "execution_count": 15,
   "id": "3fa7b121",
   "metadata": {},
   "outputs": [],
   "source": [
    "import numpy as np"
   ]
  },
  {
   "cell_type": "markdown",
   "id": "c892982d",
   "metadata": {},
   "source": [
    "    INPUT LAYER NODES : x0, x1 \n",
    "    HIDDEN LAYER NODES : x2, x3 \n",
    "    OUTPUT LAYER NODES : x4 "
   ]
  },
  {
   "cell_type": "markdown",
   "id": "30dea2d7",
   "metadata": {},
   "source": [
    "### INPUT LAYER"
   ]
  },
  {
   "cell_type": "code",
   "execution_count": 16,
   "id": "23db16b3",
   "metadata": {},
   "outputs": [],
   "source": [
    "data = np.array([2,3])"
   ]
  },
  {
   "cell_type": "code",
   "execution_count": 17,
   "id": "a23b009b",
   "metadata": {},
   "outputs": [],
   "source": [
    "x0 = data[0]\n",
    "x1 = data[1]"
   ]
  },
  {
   "cell_type": "code",
   "execution_count": 18,
   "id": "9a1596ff",
   "metadata": {},
   "outputs": [
    {
     "name": "stdout",
     "output_type": "stream",
     "text": [
      "INput layer : [2 3]\n"
     ]
    }
   ],
   "source": [
    "input_layer = np.array([x0,x1])\n",
    "print(\"INput layer :\",input_layer)"
   ]
  },
  {
   "cell_type": "markdown",
   "id": "a044c725",
   "metadata": {},
   "source": [
    "### HIDDEN LAYER"
   ]
  },
  {
   "cell_type": "code",
   "execution_count": 19,
   "id": "9a859c7d",
   "metadata": {},
   "outputs": [],
   "source": [
    "# dict to define the weights of node x2,x3 and x4\n",
    "weight = {\n",
    "    'x2':np.array([1,1]),\n",
    "    'x3':np.array([-1,1]),\n",
    "    'x4':np.array([2,-1])\n",
    "}"
   ]
  },
  {
   "cell_type": "markdown",
   "id": "5e2cafd0",
   "metadata": {},
   "source": [
    "#### In hidden layer we calculate the weighted sum of inputs.\n",
    "    -It means sum of data is multiplied by the weights of the node\n",
    "        ∑ xi * Wi\n"
   ]
  },
  {
   "cell_type": "code",
   "execution_count": 25,
   "id": "add6ace5",
   "metadata": {},
   "outputs": [],
   "source": [
    "x2 = (input_layer * weight['x2']).sum()\n",
    "x3 = (input_layer * weight['x3']).sum()"
   ]
  },
  {
   "cell_type": "code",
   "execution_count": 36,
   "id": "2671120a",
   "metadata": {},
   "outputs": [
    {
     "data": {
      "text/plain": [
       "array([5, 1])"
      ]
     },
     "execution_count": 36,
     "metadata": {},
     "output_type": "execute_result"
    }
   ],
   "source": [
    "hidden_layer = np.array([x2,x3])\n",
    "hidden_layer\n"
   ]
  },
  {
   "cell_type": "markdown",
   "id": "c07c57f5",
   "metadata": {},
   "source": [
    "### OUTPUT LAYER\n",
    "    - This layer has node 'x4'\n",
    "    - It has two connections i.e. with x2 and x3 from HIDDEN LAYER\n",
    "    - So it will have two weights (already defined in dict) : [-2,1]\n",
    "    \n",
    "    \n",
    "Now calculating the data coming into OUTPUT LAYER FROM HIDDEN LAYER\n",
    "\n",
    "    ---> ∑ xi * Wi\n"
   ]
  },
  {
   "cell_type": "code",
   "execution_count": 37,
   "id": "cb689b7f",
   "metadata": {},
   "outputs": [],
   "source": [
    "x4 = (hidden_layer*weight['x4']).sum()"
   ]
  },
  {
   "cell_type": "code",
   "execution_count": 39,
   "id": "1531ba25",
   "metadata": {},
   "outputs": [
    {
     "data": {
      "text/plain": [
       "array([9])"
      ]
     },
     "execution_count": 39,
     "metadata": {},
     "output_type": "execute_result"
    }
   ],
   "source": [
    "output_layer = np.array([x4])\n",
    "output_layer\n"
   ]
  },
  {
   "cell_type": "markdown",
   "id": "34ac5b3c",
   "metadata": {},
   "source": [
    "### CONCLUSION\n",
    "    - Data received at output layer is 9\n",
    "    - So it means tht if we give 2,3 as input then we get output as 9"
   ]
  }
 ],
 "metadata": {
  "kernelspec": {
   "display_name": "Python 3 (ipykernel)",
   "language": "python",
   "name": "python3"
  },
  "language_info": {
   "codemirror_mode": {
    "name": "ipython",
    "version": 3
   },
   "file_extension": ".py",
   "mimetype": "text/x-python",
   "name": "python",
   "nbconvert_exporter": "python",
   "pygments_lexer": "ipython3",
   "version": "3.9.16"
  }
 },
 "nbformat": 4,
 "nbformat_minor": 5
}
