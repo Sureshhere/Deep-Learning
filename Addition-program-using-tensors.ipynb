{
 "cells": [
  {
   "cell_type": "markdown",
   "id": "f75460bc",
   "metadata": {},
   "source": [
    "### program to add 2 numbers using tensors"
   ]
  },
  {
   "cell_type": "code",
   "execution_count": 11,
   "id": "c00b3b49",
   "metadata": {},
   "outputs": [],
   "source": [
    "import tensorflow as tf"
   ]
  },
  {
   "cell_type": "code",
   "execution_count": 12,
   "id": "0d98d4f4",
   "metadata": {},
   "outputs": [],
   "source": [
    "a = tf.constant(32)\n",
    "b = tf.constant(8)"
   ]
  },
  {
   "cell_type": "code",
   "execution_count": 13,
   "id": "e10b521e",
   "metadata": {},
   "outputs": [],
   "source": [
    "c = tf.add(a,b)"
   ]
  },
  {
   "cell_type": "code",
   "execution_count": 14,
   "id": "7a653841",
   "metadata": {},
   "outputs": [
    {
     "name": "stdout",
     "output_type": "stream",
     "text": [
      "Value of c before running graph =  tf.Tensor(40, shape=(), dtype=int32)\n"
     ]
    }
   ],
   "source": [
    "print(\"Value of c before running graph = \",c)"
   ]
  },
  {
   "cell_type": "code",
   "execution_count": 16,
   "id": "c92d4d34",
   "metadata": {},
   "outputs": [],
   "source": [
    "# when we display c value, it will show a tensor but not the actual output \n",
    "# to get the output we have to run the graph\n",
    "\n",
    "\n",
    "## to run the grpah we have to create an environment by creating an object to Session class\n",
    "\n",
    "sess = tf.compat.v1.Session()\n"
   ]
  },
  {
   "cell_type": "code",
   "execution_count": 23,
   "id": "4041c964",
   "metadata": {},
   "outputs": [
    {
     "data": {
      "text/plain": [
       "40"
      ]
     },
     "execution_count": 23,
     "metadata": {},
     "output_type": "execute_result"
    }
   ],
   "source": [
    "output = sess.run(c)\n",
    "output"
   ]
  },
  {
   "cell_type": "code",
   "execution_count": null,
   "id": "2eefddce",
   "metadata": {},
   "outputs": [],
   "source": [
    "sess.close()"
   ]
  }
 ],
 "metadata": {
  "kernelspec": {
   "display_name": "Python 3 (ipykernel)",
   "language": "python",
   "name": "python3"
  },
  "language_info": {
   "codemirror_mode": {
    "name": "ipython",
    "version": 3
   },
   "file_extension": ".py",
   "mimetype": "text/x-python",
   "name": "python",
   "nbconvert_exporter": "python",
   "pygments_lexer": "ipython3",
   "version": "3.11.5"
  }
 },
 "nbformat": 4,
 "nbformat_minor": 5
}
